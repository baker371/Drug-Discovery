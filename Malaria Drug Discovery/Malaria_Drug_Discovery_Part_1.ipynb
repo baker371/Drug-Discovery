{
  "nbformat": 4,
  "nbformat_minor": 0,
  "metadata": {
    "colab": {
      "name": "Malaria Drug Discovery Part 1.ipynb",
      "provenance": [],
      "collapsed_sections": [],
      "authorship_tag": "ABX9TyNvi+/F1GWNp1B0wKvcIjSr",
      "include_colab_link": true
    },
    "kernelspec": {
      "name": "python3",
      "display_name": "Python 3"
    },
    "language_info": {
      "name": "python"
    }
  },
  "cells": [
    {
      "cell_type": "markdown",
      "metadata": {
        "id": "view-in-github",
        "colab_type": "text"
      },
      "source": [
        "<a href=\"https://colab.research.google.com/github/baker371/Drug-Discovery/blob/main/Malaria%20Drug%20Discovery/Malaria_Drug_Discovery_Part_1.ipynb\" target=\"_parent\"><img src=\"https://colab.research.google.com/assets/colab-badge.svg\" alt=\"Open In Colab\"/></a>"
      ]
    },
    {
      "cell_type": "markdown",
      "metadata": {
        "id": "hlF83GXQWj7K"
      },
      "source": [
        "## Machine Learning model to predict Malaria Treatment using target data from ChEMBL Database\n",
        "\n",
        "### Data Collection"
      ]
    },
    {
      "cell_type": "code",
      "metadata": {
        "id": "OdoEBRYdVEad"
      },
      "source": [
        "# Package to retrieve bioactivity data from the ChEMBL Database.\n",
        "\n",
        "#! pip install chembl_webresource_client"
      ],
      "execution_count": 70,
      "outputs": []
    },
    {
      "cell_type": "code",
      "metadata": {
        "id": "pQUtYi9oUv2m"
      },
      "source": [
        "import pandas as pd\n",
        "import numpy as np\n",
        "\n",
        "from chembl_webresource_client.new_client import new_client\n",
        "\n",
        "import warnings\n",
        "warnings.filterwarnings('ignore')"
      ],
      "execution_count": 71,
      "outputs": []
    },
    {
      "cell_type": "code",
      "metadata": {
        "colab": {
          "base_uri": "https://localhost:8080/",
          "height": 715
        },
        "id": "afHzo0PwVMk9",
        "outputId": "e83e889b-6507-4ce3-f3f1-ff5fd0a2d080"
      },
      "source": [
        "# Target search for Malaria\n",
        "target = new_client.target\n",
        "target_query = target.search('Plasmodium malariae')\n",
        "targets = pd.DataFrame.from_dict(target_query)\n",
        "targets"
      ],
      "execution_count": 72,
      "outputs": [
        {
          "output_type": "execute_result",
          "data": {
            "text/html": [
              "<div>\n",
              "<style scoped>\n",
              "    .dataframe tbody tr th:only-of-type {\n",
              "        vertical-align: middle;\n",
              "    }\n",
              "\n",
              "    .dataframe tbody tr th {\n",
              "        vertical-align: top;\n",
              "    }\n",
              "\n",
              "    .dataframe thead th {\n",
              "        text-align: right;\n",
              "    }\n",
              "</style>\n",
              "<table border=\"1\" class=\"dataframe\">\n",
              "  <thead>\n",
              "    <tr style=\"text-align: right;\">\n",
              "      <th></th>\n",
              "      <th>cross_references</th>\n",
              "      <th>organism</th>\n",
              "      <th>pref_name</th>\n",
              "      <th>score</th>\n",
              "      <th>species_group_flag</th>\n",
              "      <th>target_chembl_id</th>\n",
              "      <th>target_components</th>\n",
              "      <th>target_type</th>\n",
              "      <th>tax_id</th>\n",
              "    </tr>\n",
              "  </thead>\n",
              "  <tbody>\n",
              "    <tr>\n",
              "      <th>0</th>\n",
              "      <td>[]</td>\n",
              "      <td>Plasmodium malariae</td>\n",
              "      <td>Plasmodium malariae</td>\n",
              "      <td>30.0</td>\n",
              "      <td>False</td>\n",
              "      <td>CHEMBL613257</td>\n",
              "      <td>[]</td>\n",
              "      <td>ORGANISM</td>\n",
              "      <td>5858</td>\n",
              "    </tr>\n",
              "    <tr>\n",
              "      <th>1</th>\n",
              "      <td>[]</td>\n",
              "      <td>Homo sapiens</td>\n",
              "      <td>Duffy antigen/chemokine receptor</td>\n",
              "      <td>14.0</td>\n",
              "      <td>False</td>\n",
              "      <td>CHEMBL2321626</td>\n",
              "      <td>[{'accession': 'Q16570', 'component_descriptio...</td>\n",
              "      <td>SINGLE PROTEIN</td>\n",
              "      <td>9606</td>\n",
              "    </tr>\n",
              "    <tr>\n",
              "      <th>2</th>\n",
              "      <td>[]</td>\n",
              "      <td>Plasmodium falciparum</td>\n",
              "      <td>Plasmodium falciparum</td>\n",
              "      <td>12.0</td>\n",
              "      <td>False</td>\n",
              "      <td>CHEMBL364</td>\n",
              "      <td>[]</td>\n",
              "      <td>ORGANISM</td>\n",
              "      <td>5833</td>\n",
              "    </tr>\n",
              "    <tr>\n",
              "      <th>3</th>\n",
              "      <td>[]</td>\n",
              "      <td>Plasmodium berghei</td>\n",
              "      <td>Plasmodium berghei</td>\n",
              "      <td>12.0</td>\n",
              "      <td>False</td>\n",
              "      <td>CHEMBL612653</td>\n",
              "      <td>[]</td>\n",
              "      <td>ORGANISM</td>\n",
              "      <td>5821</td>\n",
              "    </tr>\n",
              "    <tr>\n",
              "      <th>4</th>\n",
              "      <td>[]</td>\n",
              "      <td>Plasmodium yoelii</td>\n",
              "      <td>Plasmodium yoelii</td>\n",
              "      <td>12.0</td>\n",
              "      <td>False</td>\n",
              "      <td>CHEMBL612889</td>\n",
              "      <td>[]</td>\n",
              "      <td>ORGANISM</td>\n",
              "      <td>5861</td>\n",
              "    </tr>\n",
              "    <tr>\n",
              "      <th>5</th>\n",
              "      <td>[]</td>\n",
              "      <td>Plasmodium cynomolgi</td>\n",
              "      <td>Plasmodium cynomolgi</td>\n",
              "      <td>12.0</td>\n",
              "      <td>False</td>\n",
              "      <td>CHEMBL613883</td>\n",
              "      <td>[]</td>\n",
              "      <td>ORGANISM</td>\n",
              "      <td>5827</td>\n",
              "    </tr>\n",
              "    <tr>\n",
              "      <th>6</th>\n",
              "      <td>[]</td>\n",
              "      <td>Plasmodium chabaudi</td>\n",
              "      <td>Plasmodium chabaudi</td>\n",
              "      <td>12.0</td>\n",
              "      <td>False</td>\n",
              "      <td>CHEMBL613256</td>\n",
              "      <td>[]</td>\n",
              "      <td>ORGANISM</td>\n",
              "      <td>5825</td>\n",
              "    </tr>\n",
              "    <tr>\n",
              "      <th>7</th>\n",
              "      <td>[]</td>\n",
              "      <td>Plasmodium knowlesi</td>\n",
              "      <td>Plasmodium knowlesi</td>\n",
              "      <td>12.0</td>\n",
              "      <td>False</td>\n",
              "      <td>CHEMBL613011</td>\n",
              "      <td>[]</td>\n",
              "      <td>ORGANISM</td>\n",
              "      <td>5850</td>\n",
              "    </tr>\n",
              "    <tr>\n",
              "      <th>8</th>\n",
              "      <td>[]</td>\n",
              "      <td>Plasmodium vivax</td>\n",
              "      <td>Plasmodium vivax</td>\n",
              "      <td>12.0</td>\n",
              "      <td>False</td>\n",
              "      <td>CHEMBL613013</td>\n",
              "      <td>[]</td>\n",
              "      <td>ORGANISM</td>\n",
              "      <td>5855</td>\n",
              "    </tr>\n",
              "    <tr>\n",
              "      <th>9</th>\n",
              "      <td>[]</td>\n",
              "      <td>Plasmodium gallinaceum</td>\n",
              "      <td>Plasmodium gallinaceum</td>\n",
              "      <td>12.0</td>\n",
              "      <td>False</td>\n",
              "      <td>CHEMBL3301401</td>\n",
              "      <td>[]</td>\n",
              "      <td>ORGANISM</td>\n",
              "      <td>5849</td>\n",
              "    </tr>\n",
              "    <tr>\n",
              "      <th>10</th>\n",
              "      <td>[]</td>\n",
              "      <td>Plasmodium vinckei</td>\n",
              "      <td>Plasmodium vinckei</td>\n",
              "      <td>12.0</td>\n",
              "      <td>False</td>\n",
              "      <td>CHEMBL4523073</td>\n",
              "      <td>[]</td>\n",
              "      <td>ORGANISM</td>\n",
              "      <td>5860</td>\n",
              "    </tr>\n",
              "    <tr>\n",
              "      <th>11</th>\n",
              "      <td>[]</td>\n",
              "      <td>Plasmodium vinckei vinckei</td>\n",
              "      <td>Plasmodium vinckei vinckei</td>\n",
              "      <td>11.0</td>\n",
              "      <td>False</td>\n",
              "      <td>CHEMBL612294</td>\n",
              "      <td>[]</td>\n",
              "      <td>ORGANISM</td>\n",
              "      <td>54757</td>\n",
              "    </tr>\n",
              "    <tr>\n",
              "      <th>12</th>\n",
              "      <td>[]</td>\n",
              "      <td>Plasmodium yoelii yoelii</td>\n",
              "      <td>Plasmodium yoelii yoelii</td>\n",
              "      <td>11.0</td>\n",
              "      <td>False</td>\n",
              "      <td>CHEMBL612328</td>\n",
              "      <td>[]</td>\n",
              "      <td>ORGANISM</td>\n",
              "      <td>73239</td>\n",
              "    </tr>\n",
              "    <tr>\n",
              "      <th>13</th>\n",
              "      <td>[]</td>\n",
              "      <td>Plasmodium yoelii nigeriensis</td>\n",
              "      <td>Plasmodium yoelii nigeriensis</td>\n",
              "      <td>11.0</td>\n",
              "      <td>False</td>\n",
              "      <td>CHEMBL612347</td>\n",
              "      <td>[]</td>\n",
              "      <td>ORGANISM</td>\n",
              "      <td>31274</td>\n",
              "    </tr>\n",
              "    <tr>\n",
              "      <th>14</th>\n",
              "      <td>[]</td>\n",
              "      <td>Plasmodium vinckei petteri</td>\n",
              "      <td>Plasmodium vinckei petteri</td>\n",
              "      <td>11.0</td>\n",
              "      <td>False</td>\n",
              "      <td>CHEMBL613012</td>\n",
              "      <td>[]</td>\n",
              "      <td>ORGANISM</td>\n",
              "      <td>138298</td>\n",
              "    </tr>\n",
              "    <tr>\n",
              "      <th>15</th>\n",
              "      <td>[]</td>\n",
              "      <td>Plasmodium falciparum 3D7</td>\n",
              "      <td>Plasmodium falciparum 3D7</td>\n",
              "      <td>11.0</td>\n",
              "      <td>False</td>\n",
              "      <td>CHEMBL2366922</td>\n",
              "      <td>[]</td>\n",
              "      <td>ORGANISM</td>\n",
              "      <td>36329</td>\n",
              "    </tr>\n",
              "    <tr>\n",
              "      <th>16</th>\n",
              "      <td>[]</td>\n",
              "      <td>Plasmodium falciparum D6</td>\n",
              "      <td>Plasmodium falciparum D6</td>\n",
              "      <td>11.0</td>\n",
              "      <td>False</td>\n",
              "      <td>CHEMBL2367107</td>\n",
              "      <td>[]</td>\n",
              "      <td>ORGANISM</td>\n",
              "      <td>478860</td>\n",
              "    </tr>\n",
              "    <tr>\n",
              "      <th>17</th>\n",
              "      <td>[]</td>\n",
              "      <td>Plasmodium falciparum NF54</td>\n",
              "      <td>Plasmodium falciparum NF54</td>\n",
              "      <td>11.0</td>\n",
              "      <td>False</td>\n",
              "      <td>CHEMBL2367131</td>\n",
              "      <td>[]</td>\n",
              "      <td>ORGANISM</td>\n",
              "      <td>5843</td>\n",
              "    </tr>\n",
              "    <tr>\n",
              "      <th>18</th>\n",
              "      <td>[]</td>\n",
              "      <td>Plasmodium falciparum FcB1/Columbia</td>\n",
              "      <td>Plasmodium falciparum (isolate FcB1 / Columbia)</td>\n",
              "      <td>9.0</td>\n",
              "      <td>False</td>\n",
              "      <td>CHEMBL612608</td>\n",
              "      <td>[]</td>\n",
              "      <td>ORGANISM</td>\n",
              "      <td>186763</td>\n",
              "    </tr>\n",
              "    <tr>\n",
              "      <th>19</th>\n",
              "      <td>[]</td>\n",
              "      <td>Plasmodium falciparum K1</td>\n",
              "      <td>Plasmodium falciparum (isolate K1 / Thailand)</td>\n",
              "      <td>9.0</td>\n",
              "      <td>False</td>\n",
              "      <td>CHEMBL612856</td>\n",
              "      <td>[]</td>\n",
              "      <td>ORGANISM</td>\n",
              "      <td>5839</td>\n",
              "    </tr>\n",
              "  </tbody>\n",
              "</table>\n",
              "</div>"
            ],
            "text/plain": [
              "   cross_references  ...  tax_id\n",
              "0                []  ...    5858\n",
              "1                []  ...    9606\n",
              "2                []  ...    5833\n",
              "3                []  ...    5821\n",
              "4                []  ...    5861\n",
              "5                []  ...    5827\n",
              "6                []  ...    5825\n",
              "7                []  ...    5850\n",
              "8                []  ...    5855\n",
              "9                []  ...    5849\n",
              "10               []  ...    5860\n",
              "11               []  ...   54757\n",
              "12               []  ...   73239\n",
              "13               []  ...   31274\n",
              "14               []  ...  138298\n",
              "15               []  ...   36329\n",
              "16               []  ...  478860\n",
              "17               []  ...    5843\n",
              "18               []  ...  186763\n",
              "19               []  ...    5839\n",
              "\n",
              "[20 rows x 9 columns]"
            ]
          },
          "metadata": {
            "tags": []
          },
          "execution_count": 72
        }
      ]
    },
    {
      "cell_type": "code",
      "metadata": {
        "id": "YOVhAnO1Vy1j"
      },
      "source": [
        "# Randomly selecting different and testing out with different targets\n",
        "\n",
        "selected_target = 'CHEMBL2366922'"
      ],
      "execution_count": 73,
      "outputs": []
    },
    {
      "cell_type": "code",
      "metadata": {
        "colab": {
          "base_uri": "https://localhost:8080/",
          "height": 391
        },
        "id": "6IeCFASgXZiA",
        "outputId": "595498b6-fb64-45fb-b1cc-7303dd71f825"
      },
      "source": [
        "# Retrieve bioactivity data for selected target with reported IC50 values\n",
        "\n",
        "activity = new_client.activity\n",
        "res = activity.filter(target_chembl_id=selected_target).filter(standard_type=\"IC50\")\n",
        "dfn = pd.DataFrame.from_dict(res)\n",
        "dfn.head(5)"
      ],
      "execution_count": 74,
      "outputs": [
        {
          "output_type": "execute_result",
          "data": {
            "text/html": [
              "<div>\n",
              "<style scoped>\n",
              "    .dataframe tbody tr th:only-of-type {\n",
              "        vertical-align: middle;\n",
              "    }\n",
              "\n",
              "    .dataframe tbody tr th {\n",
              "        vertical-align: top;\n",
              "    }\n",
              "\n",
              "    .dataframe thead th {\n",
              "        text-align: right;\n",
              "    }\n",
              "</style>\n",
              "<table border=\"1\" class=\"dataframe\">\n",
              "  <thead>\n",
              "    <tr style=\"text-align: right;\">\n",
              "      <th></th>\n",
              "      <th>activity_comment</th>\n",
              "      <th>activity_id</th>\n",
              "      <th>activity_properties</th>\n",
              "      <th>assay_chembl_id</th>\n",
              "      <th>assay_description</th>\n",
              "      <th>assay_type</th>\n",
              "      <th>assay_variant_accession</th>\n",
              "      <th>assay_variant_mutation</th>\n",
              "      <th>bao_endpoint</th>\n",
              "      <th>bao_format</th>\n",
              "      <th>bao_label</th>\n",
              "      <th>canonical_smiles</th>\n",
              "      <th>data_validity_comment</th>\n",
              "      <th>data_validity_description</th>\n",
              "      <th>document_chembl_id</th>\n",
              "      <th>document_journal</th>\n",
              "      <th>document_year</th>\n",
              "      <th>ligand_efficiency</th>\n",
              "      <th>molecule_chembl_id</th>\n",
              "      <th>molecule_pref_name</th>\n",
              "      <th>parent_molecule_chembl_id</th>\n",
              "      <th>pchembl_value</th>\n",
              "      <th>potential_duplicate</th>\n",
              "      <th>qudt_units</th>\n",
              "      <th>record_id</th>\n",
              "      <th>relation</th>\n",
              "      <th>src_id</th>\n",
              "      <th>standard_flag</th>\n",
              "      <th>standard_relation</th>\n",
              "      <th>standard_text_value</th>\n",
              "      <th>standard_type</th>\n",
              "      <th>standard_units</th>\n",
              "      <th>standard_upper_value</th>\n",
              "      <th>standard_value</th>\n",
              "      <th>target_chembl_id</th>\n",
              "      <th>target_organism</th>\n",
              "      <th>target_pref_name</th>\n",
              "      <th>target_tax_id</th>\n",
              "      <th>text_value</th>\n",
              "      <th>toid</th>\n",
              "      <th>type</th>\n",
              "      <th>units</th>\n",
              "      <th>uo_units</th>\n",
              "      <th>upper_value</th>\n",
              "      <th>value</th>\n",
              "    </tr>\n",
              "  </thead>\n",
              "  <tbody>\n",
              "    <tr>\n",
              "      <th>0</th>\n",
              "      <td>None</td>\n",
              "      <td>12393147</td>\n",
              "      <td>[]</td>\n",
              "      <td>CHEMBL3051455</td>\n",
              "      <td>Antimalarial activity against chloroquine-sens...</td>\n",
              "      <td>F</td>\n",
              "      <td>None</td>\n",
              "      <td>None</td>\n",
              "      <td>BAO_0000190</td>\n",
              "      <td>BAO_0000218</td>\n",
              "      <td>organism-based format</td>\n",
              "      <td>CCN(CC)CCCC(C)Nc1ccnc2cc(Cl)ccc12</td>\n",
              "      <td>None</td>\n",
              "      <td>None</td>\n",
              "      <td>CHEMBL3044612</td>\n",
              "      <td>Med Chem Res</td>\n",
              "      <td>2012</td>\n",
              "      <td>None</td>\n",
              "      <td>CHEMBL76</td>\n",
              "      <td>CHLOROQUINE</td>\n",
              "      <td>CHEMBL76</td>\n",
              "      <td>None</td>\n",
              "      <td>False</td>\n",
              "      <td>http://www.openphacts.org/units/MicrogramPerMi...</td>\n",
              "      <td>1799100</td>\n",
              "      <td>=</td>\n",
              "      <td>1</td>\n",
              "      <td>True</td>\n",
              "      <td>=</td>\n",
              "      <td>None</td>\n",
              "      <td>IC50</td>\n",
              "      <td>ug.mL-1</td>\n",
              "      <td>None</td>\n",
              "      <td>0.0223</td>\n",
              "      <td>CHEMBL2366922</td>\n",
              "      <td>Plasmodium falciparum 3D7</td>\n",
              "      <td>Plasmodium falciparum 3D7</td>\n",
              "      <td>36329</td>\n",
              "      <td>None</td>\n",
              "      <td>None</td>\n",
              "      <td>IC50</td>\n",
              "      <td>ng/ml</td>\n",
              "      <td>UO_0000274</td>\n",
              "      <td>None</td>\n",
              "      <td>22.3</td>\n",
              "    </tr>\n",
              "    <tr>\n",
              "      <th>1</th>\n",
              "      <td>None</td>\n",
              "      <td>12393154</td>\n",
              "      <td>[]</td>\n",
              "      <td>CHEMBL3051455</td>\n",
              "      <td>Antimalarial activity against chloroquine-sens...</td>\n",
              "      <td>F</td>\n",
              "      <td>None</td>\n",
              "      <td>None</td>\n",
              "      <td>BAO_0000190</td>\n",
              "      <td>BAO_0000218</td>\n",
              "      <td>organism-based format</td>\n",
              "      <td>O=C(/C=C/c1ccco1)c1c(O)c2ccccc2oc1=O</td>\n",
              "      <td>None</td>\n",
              "      <td>None</td>\n",
              "      <td>CHEMBL3044612</td>\n",
              "      <td>Med Chem Res</td>\n",
              "      <td>2012</td>\n",
              "      <td>None</td>\n",
              "      <td>CHEMBL2237985</td>\n",
              "      <td>None</td>\n",
              "      <td>CHEMBL2237985</td>\n",
              "      <td>None</td>\n",
              "      <td>False</td>\n",
              "      <td>http://www.openphacts.org/units/MicrogramPerMi...</td>\n",
              "      <td>1799099</td>\n",
              "      <td>&gt;</td>\n",
              "      <td>1</td>\n",
              "      <td>True</td>\n",
              "      <td>&gt;</td>\n",
              "      <td>None</td>\n",
              "      <td>IC50</td>\n",
              "      <td>ug.mL-1</td>\n",
              "      <td>None</td>\n",
              "      <td>50.0</td>\n",
              "      <td>CHEMBL2366922</td>\n",
              "      <td>Plasmodium falciparum 3D7</td>\n",
              "      <td>Plasmodium falciparum 3D7</td>\n",
              "      <td>36329</td>\n",
              "      <td>None</td>\n",
              "      <td>None</td>\n",
              "      <td>IC50</td>\n",
              "      <td>ug ml-1</td>\n",
              "      <td>UO_0000274</td>\n",
              "      <td>None</td>\n",
              "      <td>50.0</td>\n",
              "    </tr>\n",
              "    <tr>\n",
              "      <th>2</th>\n",
              "      <td>None</td>\n",
              "      <td>12393161</td>\n",
              "      <td>[]</td>\n",
              "      <td>CHEMBL3051455</td>\n",
              "      <td>Antimalarial activity against chloroquine-sens...</td>\n",
              "      <td>F</td>\n",
              "      <td>None</td>\n",
              "      <td>None</td>\n",
              "      <td>BAO_0000190</td>\n",
              "      <td>BAO_0000218</td>\n",
              "      <td>organism-based format</td>\n",
              "      <td>COc1cc(/C=C/C(=O)c2c(O)c3ccccc3oc2=O)cc(OC)c1OC</td>\n",
              "      <td>None</td>\n",
              "      <td>None</td>\n",
              "      <td>CHEMBL3044612</td>\n",
              "      <td>Med Chem Res</td>\n",
              "      <td>2012</td>\n",
              "      <td>None</td>\n",
              "      <td>CHEMBL2234257</td>\n",
              "      <td>None</td>\n",
              "      <td>CHEMBL2234257</td>\n",
              "      <td>None</td>\n",
              "      <td>False</td>\n",
              "      <td>http://www.openphacts.org/units/MicrogramPerMi...</td>\n",
              "      <td>1799098</td>\n",
              "      <td>&gt;</td>\n",
              "      <td>1</td>\n",
              "      <td>True</td>\n",
              "      <td>&gt;</td>\n",
              "      <td>None</td>\n",
              "      <td>IC50</td>\n",
              "      <td>ug.mL-1</td>\n",
              "      <td>None</td>\n",
              "      <td>50.0</td>\n",
              "      <td>CHEMBL2366922</td>\n",
              "      <td>Plasmodium falciparum 3D7</td>\n",
              "      <td>Plasmodium falciparum 3D7</td>\n",
              "      <td>36329</td>\n",
              "      <td>None</td>\n",
              "      <td>None</td>\n",
              "      <td>IC50</td>\n",
              "      <td>ug ml-1</td>\n",
              "      <td>UO_0000274</td>\n",
              "      <td>None</td>\n",
              "      <td>50.0</td>\n",
              "    </tr>\n",
              "    <tr>\n",
              "      <th>3</th>\n",
              "      <td>None</td>\n",
              "      <td>12393168</td>\n",
              "      <td>[]</td>\n",
              "      <td>CHEMBL3051455</td>\n",
              "      <td>Antimalarial activity against chloroquine-sens...</td>\n",
              "      <td>F</td>\n",
              "      <td>None</td>\n",
              "      <td>None</td>\n",
              "      <td>BAO_0000190</td>\n",
              "      <td>BAO_0000218</td>\n",
              "      <td>organism-based format</td>\n",
              "      <td>COc1ccc(/C=C/C(=O)c2c(O)c3ccccc3oc2=O)c(OC)c1OC</td>\n",
              "      <td>None</td>\n",
              "      <td>None</td>\n",
              "      <td>CHEMBL3044612</td>\n",
              "      <td>Med Chem Res</td>\n",
              "      <td>2012</td>\n",
              "      <td>None</td>\n",
              "      <td>CHEMBL2237984</td>\n",
              "      <td>None</td>\n",
              "      <td>CHEMBL2237984</td>\n",
              "      <td>None</td>\n",
              "      <td>False</td>\n",
              "      <td>http://www.openphacts.org/units/MicrogramPerMi...</td>\n",
              "      <td>1799097</td>\n",
              "      <td>=</td>\n",
              "      <td>1</td>\n",
              "      <td>True</td>\n",
              "      <td>=</td>\n",
              "      <td>None</td>\n",
              "      <td>IC50</td>\n",
              "      <td>ug.mL-1</td>\n",
              "      <td>None</td>\n",
              "      <td>8.5</td>\n",
              "      <td>CHEMBL2366922</td>\n",
              "      <td>Plasmodium falciparum 3D7</td>\n",
              "      <td>Plasmodium falciparum 3D7</td>\n",
              "      <td>36329</td>\n",
              "      <td>None</td>\n",
              "      <td>None</td>\n",
              "      <td>IC50</td>\n",
              "      <td>ug ml-1</td>\n",
              "      <td>UO_0000274</td>\n",
              "      <td>None</td>\n",
              "      <td>8.5</td>\n",
              "    </tr>\n",
              "    <tr>\n",
              "      <th>4</th>\n",
              "      <td>None</td>\n",
              "      <td>12393175</td>\n",
              "      <td>[]</td>\n",
              "      <td>CHEMBL3051455</td>\n",
              "      <td>Antimalarial activity against chloroquine-sens...</td>\n",
              "      <td>F</td>\n",
              "      <td>None</td>\n",
              "      <td>None</td>\n",
              "      <td>BAO_0000190</td>\n",
              "      <td>BAO_0000218</td>\n",
              "      <td>organism-based format</td>\n",
              "      <td>COc1ccc(/C=C/C(=O)c2c(O)c3ccccc3oc2=O)cc1OC</td>\n",
              "      <td>None</td>\n",
              "      <td>None</td>\n",
              "      <td>CHEMBL3044612</td>\n",
              "      <td>Med Chem Res</td>\n",
              "      <td>2012</td>\n",
              "      <td>None</td>\n",
              "      <td>CHEMBL2237983</td>\n",
              "      <td>None</td>\n",
              "      <td>CHEMBL2237983</td>\n",
              "      <td>None</td>\n",
              "      <td>False</td>\n",
              "      <td>http://www.openphacts.org/units/MicrogramPerMi...</td>\n",
              "      <td>1799096</td>\n",
              "      <td>=</td>\n",
              "      <td>1</td>\n",
              "      <td>True</td>\n",
              "      <td>=</td>\n",
              "      <td>None</td>\n",
              "      <td>IC50</td>\n",
              "      <td>ug.mL-1</td>\n",
              "      <td>None</td>\n",
              "      <td>6.2</td>\n",
              "      <td>CHEMBL2366922</td>\n",
              "      <td>Plasmodium falciparum 3D7</td>\n",
              "      <td>Plasmodium falciparum 3D7</td>\n",
              "      <td>36329</td>\n",
              "      <td>None</td>\n",
              "      <td>None</td>\n",
              "      <td>IC50</td>\n",
              "      <td>ug ml-1</td>\n",
              "      <td>UO_0000274</td>\n",
              "      <td>None</td>\n",
              "      <td>6.2</td>\n",
              "    </tr>\n",
              "  </tbody>\n",
              "</table>\n",
              "</div>"
            ],
            "text/plain": [
              "  activity_comment  activity_id  ... upper_value value\n",
              "0             None     12393147  ...        None  22.3\n",
              "1             None     12393154  ...        None  50.0\n",
              "2             None     12393161  ...        None  50.0\n",
              "3             None     12393168  ...        None   8.5\n",
              "4             None     12393175  ...        None   6.2\n",
              "\n",
              "[5 rows x 45 columns]"
            ]
          },
          "metadata": {
            "tags": []
          },
          "execution_count": 74
        }
      ]
    },
    {
      "cell_type": "code",
      "metadata": {
        "colab": {
          "base_uri": "https://localhost:8080/",
          "height": 203
        },
        "id": "b9e98MK3X5Ex",
        "outputId": "fcd7617a-06e7-48ea-c3c6-e55f3e11ddbf"
      },
      "source": [
        "selection = ['molecule_chembl_id', 'canonical_smiles', 'standard_value']\n",
        "dfm = dfn[selection]\n",
        "dfm.head(5)"
      ],
      "execution_count": 75,
      "outputs": [
        {
          "output_type": "execute_result",
          "data": {
            "text/html": [
              "<div>\n",
              "<style scoped>\n",
              "    .dataframe tbody tr th:only-of-type {\n",
              "        vertical-align: middle;\n",
              "    }\n",
              "\n",
              "    .dataframe tbody tr th {\n",
              "        vertical-align: top;\n",
              "    }\n",
              "\n",
              "    .dataframe thead th {\n",
              "        text-align: right;\n",
              "    }\n",
              "</style>\n",
              "<table border=\"1\" class=\"dataframe\">\n",
              "  <thead>\n",
              "    <tr style=\"text-align: right;\">\n",
              "      <th></th>\n",
              "      <th>molecule_chembl_id</th>\n",
              "      <th>canonical_smiles</th>\n",
              "      <th>standard_value</th>\n",
              "    </tr>\n",
              "  </thead>\n",
              "  <tbody>\n",
              "    <tr>\n",
              "      <th>0</th>\n",
              "      <td>CHEMBL76</td>\n",
              "      <td>CCN(CC)CCCC(C)Nc1ccnc2cc(Cl)ccc12</td>\n",
              "      <td>0.0223</td>\n",
              "    </tr>\n",
              "    <tr>\n",
              "      <th>1</th>\n",
              "      <td>CHEMBL2237985</td>\n",
              "      <td>O=C(/C=C/c1ccco1)c1c(O)c2ccccc2oc1=O</td>\n",
              "      <td>50.0</td>\n",
              "    </tr>\n",
              "    <tr>\n",
              "      <th>2</th>\n",
              "      <td>CHEMBL2234257</td>\n",
              "      <td>COc1cc(/C=C/C(=O)c2c(O)c3ccccc3oc2=O)cc(OC)c1OC</td>\n",
              "      <td>50.0</td>\n",
              "    </tr>\n",
              "    <tr>\n",
              "      <th>3</th>\n",
              "      <td>CHEMBL2237984</td>\n",
              "      <td>COc1ccc(/C=C/C(=O)c2c(O)c3ccccc3oc2=O)c(OC)c1OC</td>\n",
              "      <td>8.5</td>\n",
              "    </tr>\n",
              "    <tr>\n",
              "      <th>4</th>\n",
              "      <td>CHEMBL2237983</td>\n",
              "      <td>COc1ccc(/C=C/C(=O)c2c(O)c3ccccc3oc2=O)cc1OC</td>\n",
              "      <td>6.2</td>\n",
              "    </tr>\n",
              "  </tbody>\n",
              "</table>\n",
              "</div>"
            ],
            "text/plain": [
              "  molecule_chembl_id  ... standard_value\n",
              "0           CHEMBL76  ...         0.0223\n",
              "1      CHEMBL2237985  ...           50.0\n",
              "2      CHEMBL2234257  ...           50.0\n",
              "3      CHEMBL2237984  ...            8.5\n",
              "4      CHEMBL2237983  ...            6.2\n",
              "\n",
              "[5 rows x 3 columns]"
            ]
          },
          "metadata": {
            "tags": []
          },
          "execution_count": 75
        }
      ]
    },
    {
      "cell_type": "code",
      "metadata": {
        "colab": {
          "base_uri": "https://localhost:8080/"
        },
        "id": "22wRbTveh-Jj",
        "outputId": "a922f8ac-0afd-451a-ae90-0419d87123e0"
      },
      "source": [
        "dfm.dtypes"
      ],
      "execution_count": 76,
      "outputs": [
        {
          "output_type": "execute_result",
          "data": {
            "text/plain": [
              "molecule_chembl_id    object\n",
              "canonical_smiles      object\n",
              "standard_value        object\n",
              "dtype: object"
            ]
          },
          "metadata": {
            "tags": []
          },
          "execution_count": 76
        }
      ]
    },
    {
      "cell_type": "code",
      "metadata": {
        "id": "eRd9eSGYigvC"
      },
      "source": [
        "dfm[\"standard_value\"] = pd.to_numeric(dfm[\"standard_value\"])"
      ],
      "execution_count": 77,
      "outputs": []
    },
    {
      "cell_type": "code",
      "metadata": {
        "colab": {
          "base_uri": "https://localhost:8080/"
        },
        "id": "X2rSURx5iNGQ",
        "outputId": "aec61a6b-3888-42fb-add9-c6eebf47bc68"
      },
      "source": [
        "dfm.dtypes"
      ],
      "execution_count": 78,
      "outputs": [
        {
          "output_type": "execute_result",
          "data": {
            "text/plain": [
              "molecule_chembl_id     object\n",
              "canonical_smiles       object\n",
              "standard_value        float64\n",
              "dtype: object"
            ]
          },
          "metadata": {
            "tags": []
          },
          "execution_count": 78
        }
      ]
    },
    {
      "cell_type": "code",
      "metadata": {
        "colab": {
          "base_uri": "https://localhost:8080/",
          "height": 203
        },
        "id": "CPt3TgW7fMfp",
        "outputId": "2efe9bae-bf12-4e8d-c350-49161eb1601a"
      },
      "source": [
        "# create a list of our conditions\n",
        "conditions = [\n",
        "    (dfm['standard_value'] >= 10000),\n",
        "    (dfm['standard_value'] > 1000) & (dfm['standard_value'] <= 9999),\n",
        "    (dfm['standard_value'] <= 1000)\n",
        "    ]\n",
        "\n",
        "# create a list of the values we want to assign for each condition\n",
        "values = ['Inactive','Intermediate', 'Active']\n",
        "\n",
        "dfm['bioactivity_class'] = np.select(conditions, values)\n",
        "\n",
        "# display updated DataFrame\n",
        "dfm.head(5)"
      ],
      "execution_count": 79,
      "outputs": [
        {
          "output_type": "execute_result",
          "data": {
            "text/html": [
              "<div>\n",
              "<style scoped>\n",
              "    .dataframe tbody tr th:only-of-type {\n",
              "        vertical-align: middle;\n",
              "    }\n",
              "\n",
              "    .dataframe tbody tr th {\n",
              "        vertical-align: top;\n",
              "    }\n",
              "\n",
              "    .dataframe thead th {\n",
              "        text-align: right;\n",
              "    }\n",
              "</style>\n",
              "<table border=\"1\" class=\"dataframe\">\n",
              "  <thead>\n",
              "    <tr style=\"text-align: right;\">\n",
              "      <th></th>\n",
              "      <th>molecule_chembl_id</th>\n",
              "      <th>canonical_smiles</th>\n",
              "      <th>standard_value</th>\n",
              "      <th>bioactivity_class</th>\n",
              "    </tr>\n",
              "  </thead>\n",
              "  <tbody>\n",
              "    <tr>\n",
              "      <th>0</th>\n",
              "      <td>CHEMBL76</td>\n",
              "      <td>CCN(CC)CCCC(C)Nc1ccnc2cc(Cl)ccc12</td>\n",
              "      <td>0.0223</td>\n",
              "      <td>Active</td>\n",
              "    </tr>\n",
              "    <tr>\n",
              "      <th>1</th>\n",
              "      <td>CHEMBL2237985</td>\n",
              "      <td>O=C(/C=C/c1ccco1)c1c(O)c2ccccc2oc1=O</td>\n",
              "      <td>50.0000</td>\n",
              "      <td>Active</td>\n",
              "    </tr>\n",
              "    <tr>\n",
              "      <th>2</th>\n",
              "      <td>CHEMBL2234257</td>\n",
              "      <td>COc1cc(/C=C/C(=O)c2c(O)c3ccccc3oc2=O)cc(OC)c1OC</td>\n",
              "      <td>50.0000</td>\n",
              "      <td>Active</td>\n",
              "    </tr>\n",
              "    <tr>\n",
              "      <th>3</th>\n",
              "      <td>CHEMBL2237984</td>\n",
              "      <td>COc1ccc(/C=C/C(=O)c2c(O)c3ccccc3oc2=O)c(OC)c1OC</td>\n",
              "      <td>8.5000</td>\n",
              "      <td>Active</td>\n",
              "    </tr>\n",
              "    <tr>\n",
              "      <th>4</th>\n",
              "      <td>CHEMBL2237983</td>\n",
              "      <td>COc1ccc(/C=C/C(=O)c2c(O)c3ccccc3oc2=O)cc1OC</td>\n",
              "      <td>6.2000</td>\n",
              "      <td>Active</td>\n",
              "    </tr>\n",
              "  </tbody>\n",
              "</table>\n",
              "</div>"
            ],
            "text/plain": [
              "  molecule_chembl_id  ... bioactivity_class\n",
              "0           CHEMBL76  ...            Active\n",
              "1      CHEMBL2237985  ...            Active\n",
              "2      CHEMBL2234257  ...            Active\n",
              "3      CHEMBL2237984  ...            Active\n",
              "4      CHEMBL2237983  ...            Active\n",
              "\n",
              "[5 rows x 4 columns]"
            ]
          },
          "metadata": {
            "tags": []
          },
          "execution_count": 79
        }
      ]
    },
    {
      "cell_type": "code",
      "metadata": {
        "colab": {
          "base_uri": "https://localhost:8080/"
        },
        "id": "8CbZupAGmDmi",
        "outputId": "864d72cc-f987-4b9d-8e4f-635914bc82b0"
      },
      "source": [
        "dfm.shape"
      ],
      "execution_count": 80,
      "outputs": [
        {
          "output_type": "execute_result",
          "data": {
            "text/plain": [
              "(1688, 4)"
            ]
          },
          "metadata": {
            "tags": []
          },
          "execution_count": 80
        }
      ]
    },
    {
      "cell_type": "code",
      "metadata": {
        "id": "26wgNnFYmHRS"
      },
      "source": [
        "# dropping ALL duplicate molecule_chembl_id\tvalues\n",
        "dfm.drop_duplicates(subset =\"molecule_chembl_id\",\n",
        "                     keep = False, inplace = True)"
      ],
      "execution_count": 81,
      "outputs": []
    },
    {
      "cell_type": "code",
      "metadata": {
        "id": "Gla1mlTEokpS"
      },
      "source": [
        "df = dfm[dfm.standard_value.notna()]"
      ],
      "execution_count": 82,
      "outputs": []
    },
    {
      "cell_type": "code",
      "metadata": {
        "colab": {
          "base_uri": "https://localhost:8080/"
        },
        "id": "jpi-d6ItmQ14",
        "outputId": "da30bd1e-17f7-4416-b2f0-0cfb1cac431c"
      },
      "source": [
        "df.shape"
      ],
      "execution_count": 83,
      "outputs": [
        {
          "output_type": "execute_result",
          "data": {
            "text/plain": [
              "(1320, 4)"
            ]
          },
          "metadata": {
            "tags": []
          },
          "execution_count": 83
        }
      ]
    },
    {
      "cell_type": "code",
      "metadata": {
        "id": "USiJx8NFldow"
      },
      "source": [
        "df.to_csv('bioactive_data.csv', index=False)"
      ],
      "execution_count": 84,
      "outputs": []
    },
    {
      "cell_type": "code",
      "metadata": {
        "colab": {
          "base_uri": "https://localhost:8080/"
        },
        "id": "fpKp-uDHnoTH",
        "outputId": "bde4ed78-774f-40d7-8990-6de3de7642f3"
      },
      "source": [
        "from google.colab import drive\n",
        "drive.mount('/content/gdrive/', force_remount=True)"
      ],
      "execution_count": 85,
      "outputs": [
        {
          "output_type": "stream",
          "text": [
            "Mounted at /content/gdrive/\n"
          ],
          "name": "stdout"
        }
      ]
    },
    {
      "cell_type": "code",
      "metadata": {
        "id": "cZRH29GAm88e"
      },
      "source": [
        "! cp bioactive_data.csv \"/content/gdrive/My Drive/Colab Notebooks/data\""
      ],
      "execution_count": 86,
      "outputs": []
    }
  ]
}